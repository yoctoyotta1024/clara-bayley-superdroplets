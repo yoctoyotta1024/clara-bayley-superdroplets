{
 "cells": [
  {
   "cell_type": "code",
   "execution_count": 5,
   "id": "b20eff4a-dccf-4f0e-9944-b29e7b20ca82",
   "metadata": {},
   "outputs": [],
   "source": [
    "import numpy as np"
   ]
  },
  {
   "cell_type": "code",
   "execution_count": 6,
   "id": "7861ae14-dbf8-4a72-84ec-2ab24c91442d",
   "metadata": {},
   "outputs": [],
   "source": [
    "r = np.linspace(1e-6,1e-5,10)"
   ]
  },
  {
   "cell_type": "code",
   "execution_count": 7,
   "id": "7c3d6384-72cb-4dc1-941b-77881f4e7e55",
   "metadata": {},
   "outputs": [],
   "source": [
    "eps = [2,3,4,5,6,7,8,9,10,11]"
   ]
  },
  {
   "cell_type": "code",
   "execution_count": 8,
   "id": "2e2b3d9d-61aa-4798-9b8a-feb81c2f9df0",
   "metadata": {},
   "outputs": [],
   "source": [
    "class Superdroplets():\n",
    "    \n",
    "    def __init__(self, r, eps):\n",
    "        \n",
    "        rho = 3/np.pi\n",
    "        \n",
    "        self.r = r\n",
    "        \n",
    "        self.eps = eps\n",
    "        \n",
    "        self.m = 4/3*np.pi*rho*self.r**3\n",
    "        \n",
    "\n",
    "        \n",
    "### (1) generate ordered list of all superdrops\n",
    "        \n",
    "alldrops = Superdroplets(r, eps)\n",
    "\n",
    "\n",
    "### (2) randomly shuffle list and select pairs\n",
    "\n",
    "perm = np.random.permutation(perm)\n",
    "\n",
    "\n",
    "\n",
    "\n",
    "        "
   ]
  },
  {
   "cell_type": "code",
   "execution_count": null,
   "id": "e48fc64d-da38-4b31-9e39-5773a38564b3",
   "metadata": {},
   "outputs": [],
   "source": []
  }
 ],
 "metadata": {
  "kernelspec": {
   "display_name": "clara-kernel",
   "language": "python",
   "name": "clara-kernel"
  },
  "language_info": {
   "codemirror_mode": {
    "name": "ipython",
    "version": 3
   },
   "file_extension": ".py",
   "mimetype": "text/x-python",
   "name": "python",
   "nbconvert_exporter": "python",
   "pygments_lexer": "ipython3",
   "version": "3.9.12"
  }
 },
 "nbformat": 4,
 "nbformat_minor": 5
}
