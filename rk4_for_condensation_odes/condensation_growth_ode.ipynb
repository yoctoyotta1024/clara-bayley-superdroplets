{
 "cells": [
  {
   "cell_type": "code",
   "execution_count": 1,
   "metadata": {},
   "outputs": [],
   "source": [
    "import numpy as np\n",
    "import matplotlib.pyplot as plt\n",
    "from scipy.integrate import solve_ivp"
   ]
  },
  {
   "cell_type": "code",
   "execution_count": 2,
   "metadata": {},
   "outputs": [],
   "source": [
    "### initial conditions\n",
    "temp_init, p_init   = 273.15, 100000                   # initial temp & pressure\n",
    "relh_init           = 60                               # initial relative humidity (%)\n",
    "qc_init             = 0                                # initial liquid water content\n",
    "\n",
    "### integration params\n",
    "tspan          = [0, 1200]                       # time span of integration [s]\n",
    "ntout          = 1000                            # no time points to evaluate (save data at)\n",
    "method         = 'LSODA'\n",
    "maxtstep       = 0.1                             # [s]\n",
    "rtol           = 1e-8                            # relative tolerance (tol) for integration\n",
    "atols          = 1e-6                            # absolute tolerance\n",
    "  \n",
    "### superdroplet parameters\n",
    "rspan            = [1e-8, 1e-5]                      # initial range of droplet radii [m]\n",
    "nsupers          = 20                                # no. of distinct superdrops (different initial radii (evenly spaced between ln(rspan))\n",
    "r_init = np.logspace(np.log10(rspan[0]), np.log10(rspan[1]), nsupers)\n",
    "\n",
    "ionic = 2\n",
    "mr_sol = 0.058443\n",
    "rho_sol = 2200\n",
    "m_sol = rho_sol*4/3*np.pi*r_init**3             # assuming initially dry areosol droplets (dimless mass_solute)\n",
    "\n",
    "### some constants\n",
    "rho_l = 1000\n",
    "R            = 8.314462618       # Universal Molar Gas Constant [J/mol/K]\n",
    "Mr_water     = 0.01801528        # molecular mass of water\n",
    "Mr_dry       = 0.0289647         # molecular mass (per 1 mole) of dry air (M_r)       \n",
    "mr_ratio     = Mr_water/Mr_dry\n",
    "Rgas_dry     = R/Mr_dry          # specific gas constant for dry air [J/Kg/K]      <-- used in ideal gas equation for hydrostsic rather than moist??\n",
    "Rgas_v       = R/Mr_water        # specific gas constant for water\n",
    "Latent_v     = 2437300       \n",
    "mr_ratio     = Mr_water/Mr_dry\n",
    "\n",
    "# cp_dry       = 1004.9            # specific heat capacity (dry) air at const. pressure [J/Kg/K] (taken at 300K)   = 1.400*cv_dry \n",
    "# cp_v         = 1864              # specific heat capacity of water vapour [J/Kg/K] (at 300K)\n",
    "# c_l          = 4180              # specific heat capacity of liquid water[J/Kg/K] (at 300K)"
   ]
  },
  {
   "cell_type": "code",
   "execution_count": 3,
   "metadata": {},
   "outputs": [],
   "source": [
    "def pv2qv(pv, p):\n",
    "    ''' calculate mass mixing ratio\n",
    "    qv = m_v/m_dry = rho_v/rho_dry\n",
    "    given vapour pressure pv = p_v/p_tot.'''\n",
    "    \n",
    "    qv = mr_ratio * pv/(p-pv)\n",
    "    \n",
    "    return qv\n",
    "\n",
    "\n",
    "def qv2pv(qv, p):\n",
    "    ''' calculate vapour pressure\n",
    "    pv = p_v/p_tot\n",
    "    given mass mixing ratio \n",
    "    qv = m_v/m_dry = rho_v/rho_dry.\n",
    "    True pv = pv * P0'''\n",
    "    \n",
    "    pv = p*qv/(mr_ratio+qv)\n",
    "    \n",
    "    return pv\n",
    "\n",
    "\n",
    "# def cp_moist(qv, qc):\n",
    "#     ''' calculate effecitve specific heat \n",
    "#     capacity of parcel with water vapour \n",
    "#     qv=m_v/m_dry and liquid water qc= m_l/m_dry\n",
    "#     (notice m_dry not m_tot). Enthalpy change of\n",
    "#     parcel per unit (total) mass = dh. \n",
    "#     (1+qv+qc)dh = cp_eff*dtemp + latent_v*dqv.\n",
    "#     true cp_moist = Cp0 * cp_moist.'''\n",
    "\n",
    "#     cp_moist = cp_dry + cp_v*qv + c_l*qc \n",
    "    \n",
    "#     #cp = cp_dry * (1+qv*cp_v/cp_dry)/(1+qv)\n",
    "    \n",
    "#     return cp_moist"
   ]
  },
  {
   "cell_type": "code",
   "execution_count": 4,
   "metadata": {},
   "outputs": [],
   "source": [
    "def saturation_pressure(T, Temp0=1, P0=1):\n",
    "    ''' Calculate the equilibrium vapor pressure \n",
    "    of water over liquid water ie. the\n",
    "    saturation pressure (psat). Equation taken from\n",
    "    typhon.physics.thermodynamics.e_eq_water_mk.\n",
    "    Real temp = T*Temp0, dimensionless psat = psat/P0'''\n",
    "\n",
    "    T = T*Temp0                               # real T [K]\n",
    "    \n",
    "    if np.any(T <= 0):\n",
    "        err = 'T must be larger than 0K.'\n",
    "        raise ValueError(err)\n",
    "\n",
    "    lnpsat = (54.842763                    # ln(psat) [Pa]\n",
    "         - 6763.22 / T\n",
    "         - 4.21 * np.log(T)\n",
    "         + 0.000367 * T\n",
    "         + np.tanh(0.0415 * (T - 218.8))\n",
    "         * (53.878 - 1331.22 / T - 9.44523 * np.log(T) + 0.014025 * T))\n",
    "\n",
    "    return np.exp(lnpsat)/P0               # dimensionless psat\n",
    "\n",
    "\n",
    "def diffusion_factors(temp, p, psat, Temp0=1, P0=1, R0=1, Rho0=1, T0=1):\n",
    "    ''' calculate Fkl and Fdl heat and vapour\n",
    "    diffusion factors in equation for \n",
    "    radial growth of droplets according to\n",
    "    eq.7.27 lohmann, luond and mahrt intro 2 \n",
    "    clouds textbook '''\n",
    "\n",
    "    Thermk273 = 0.023822892 - 7.11756e-5*273.15              #[eq.7.24 lohmann intro 2 clouds] [J/s/m/K]\n",
    "    Diffuse_v273 = 2.11e-5 * 101325 / (273.15**1.94)         #[eq.7.26 lohmann intro 2 clouds] [m^2/s]\n",
    "\n",
    "    temp, p, psat = temp*Temp0, p*P0, psat*P0\n",
    "\n",
    "    # diffusional growth equation factors\n",
    "    Rhermk = 7.11756e-5*temp + Thermk273                     #[eq.7.24 lohmann intro 2 clouds]\n",
    "    Diffuse_v = Diffuse_v273 / p * temp**1.94\n",
    "    \n",
    "    Fkl = (Latent_v/(Rgas_v*temp) -1)*Latent_v/(Rhermk*temp) \n",
    "    Fdl = Rgas_v*temp/(Diffuse_v*psat)\n",
    "    \n",
    "    F0 = T0/(Rho0*R0**2)\n",
    "    fkl = Fkl/F0                                          # dimless diffusion factors\n",
    "    fdl = Fdl/F0 \n",
    "\n",
    "    \n",
    "    return fkl, fdl\n"
   ]
  },
  {
   "cell_type": "code",
   "execution_count": 5,
   "metadata": {},
   "outputs": [],
   "source": [
    "def condensation_ode(t, r, temp, p, qv, qc, \n",
    "        ionic, m_sol, mr_sol, rho_l, rho_sol):\n",
    "    ''' diffusion growth of droplets by condensation\n",
    "    given temperature, pressure and qv.\n",
    "    NOTE! shrinking by evaporation not includeded, nor\n",
    "    are ventillation effects fv(r) (see Seifert & stevens 2010)'''\n",
    "        \n",
    "    # supersaturation of parcel\n",
    "    psat = saturation_pressure(temp)\n",
    "    s_ratio = qv2pv(qv, p)/psat                                      # ambient supersaturation ratio \n",
    "    a = 3.3e-7/temp\n",
    "    b = 43e-6*ionic*m_sol/mr_sol\n",
    "    \n",
    "    # radial growth/shrink of droplets\n",
    "    fkl, fdl = diffusion_factors(temp, p, psat)                             \n",
    "    dr = (s_ratio-1 -a/r +b/r**3) / (rho_l * (fkl+fdl) * r)           # [eq.7.27 lohmann intro 2 clouds]\n",
    "    #dr = (s_ratio-1) / (rho_l * (fkl+fdl) * r)           # [eq.7.27 lohmann intro 2 clouds]\n",
    "\n",
    "    # dry_r = (3*m_sol/(4*np.pi*rho_sol))**(1/3) \n",
    "    # if (r <= dry_r).any():                                       # if droplets are dry, do not shrink further\n",
    "    #     dry_drs = np.where(r<=dry_r, dr, 0.0)\n",
    "    #     dr = np.where(dry_drs<0.0, 0.0, dr)\n",
    "    #     r = np.where(r <= dry_r, dry_r, r)\n",
    "    \n",
    "    return dr\n"
   ]
  },
  {
   "cell_type": "code",
   "execution_count": 6,
   "metadata": {},
   "outputs": [],
   "source": [
    "pv_init = relh_init/100 * saturation_pressure(temp_init)     # initial water vapour pressure\n",
    "qv_init = pv2qv(pv_init, p_init)                             # initial water mass mixing ratio (mass water/mass dry air)\n",
    "\n",
    "args = [temp_init, p_init, qv_init, qc_init,\n",
    "         ionic, m_sol, mr_sol, rho_l, rho_sol]\n",
    "t_eval = np.linspace(tspan[0], tspan[1], ntout)\n",
    "sol = solve_ivp(condensation_ode, tspan, \n",
    "                r_init, method=method, t_eval=t_eval, args=args,\n",
    "                   max_step=maxtstep, rtol=rtol, atol=atols) \n"
   ]
  },
  {
   "cell_type": "code",
   "execution_count": 7,
   "metadata": {},
   "outputs": [
    {
     "name": "stdout",
     "output_type": "stream",
     "text": [
      "(1000,) (20, 1000)\n"
     ]
    }
   ],
   "source": [
    "\n",
    "t = sol.t\n",
    "r = sol.y\n",
    "print(t.shape, r.shape)"
   ]
  },
  {
   "cell_type": "code",
   "execution_count": 8,
   "metadata": {},
   "outputs": [
    {
     "data": {
      "image/png": "[encoded data removed]",
      "text/plain": [
       "<Figure size 1080x360 with 2 Axes>"
      ]
     },
     "metadata": {
      "needs_background": "light"
     },
     "output_type": "display_data"
    }
   ],
   "source": [
    "### plots of droplet radii growth\n",
    "a=1\n",
    "fig, [ax1, ax2] = plt.subplots(nrows=1, ncols=2, figsize=(15, 5))\n",
    "labs = ['{:.2g}\\u03BCm'.format(r*1e6) for r in r[:,0]]\n",
    "for i in range(nsupers)[::a]:\n",
    "    label = None\n",
    "    if i == 0:\n",
    "        label = 'min r0 = '+labs[i]\n",
    "    elif i == nsupers-1:\n",
    "        label = 'max r0 = '+labs[i]\n",
    "    ax1.plot(t, r[i]*1e6, linewidth=0.8, label=label)\n",
    "  \n",
    "ax1.set_xlabel('time /s')\n",
    "ax1.set_ylabel('droplet radius /\\u03BCm')\n",
    "ax1.set_yscale('log')\n",
    "ax1.legend(fontsize=13)\n",
    "\n",
    "for i in range(nsupers)[::a]:    \n",
    "    label = None\n",
    "    if i == 0:\n",
    "        label = 'min r0 = '+labs[i]\n",
    "    elif i == nsupers-1:\n",
    "        label = 'max r0 = '+labs[i]\n",
    "    ax2.plot(t, r[i]/r[i,0], linewidth=0.8, label=label) #,color=cols[i])\n",
    "ax2.set_xlabel('time /s')\n",
    "ax2.set_ylabel('droplet radius / initial radius')\n",
    "ax2.set_yscale('log')\n",
    "ax2.legend(fontsize=13)\n",
    "\n",
    "plt.tight_layout()\n",
    "# plt.savefig(savedir+\"SDsolution.png\", dpi=400, bbox_inches=\"tight\", facecolor='w')\n",
    "plt.show()"
   ]
  },
  {
   "cell_type": "code",
   "execution_count": null,
   "metadata": {},
   "outputs": [],
   "source": []
  }
 ],
 "metadata": {
  "kernelspec": {
   "display_name": "Python 3.10.4 ('cenv1')",
   "language": "python",
   "name": "python3"
  },
  "language_info": {
   "codemirror_mode": {
    "name": "ipython",
    "version": 3
   },
   "file_extension": ".py",
   "mimetype": "text/x-python",
   "name": "python",
   "nbconvert_exporter": "python",
   "pygments_lexer": "ipython3",
   "version": "3.10.4"
  },
  "orig_nbformat": 4,
  "vscode": {
   "interpreter": {
    "hash": "e78485a5fd67a47b84f67d51d3e1b2955666786e4b15679fad3e2676f0adafcc"
   }
  }
 },
 "nbformat": 4,
 "nbformat_minor": 2
}
